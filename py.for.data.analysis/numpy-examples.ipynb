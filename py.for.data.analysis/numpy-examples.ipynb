{
 "cells": [
  {
   "cell_type": "code",
   "execution_count": 40,
   "metadata": {},
   "outputs": [],
   "source": [
    "import numpy as np\n",
    "import matplotlib.pyplot as plt\n",
    "\n",
    "%matplotlib inline"
   ]
  },
  {
   "cell_type": "raw",
   "metadata": {},
   "source": [
    "print(grid[0,0])"
   ]
  },
  {
   "cell_type": "code",
   "execution_count": 13,
   "metadata": {},
   "outputs": [],
   "source": [
    "my_arr = np.arange(1000000)"
   ]
  },
  {
   "cell_type": "code",
   "execution_count": 14,
   "metadata": {},
   "outputs": [
    {
     "name": "stdout",
     "output_type": "stream",
     "text": [
      "CPU times: user 4.39 ms, sys: 12.2 ms, total: 16.6 ms\n",
      "Wall time: 15.6 ms\n"
     ]
    }
   ],
   "source": [
    "%time for _ in range(10): my_arr_1 = my_arr *2"
   ]
  },
  {
   "cell_type": "code",
   "execution_count": 18,
   "metadata": {},
   "outputs": [],
   "source": [
    "my_list = list(range(1000000))"
   ]
  },
  {
   "cell_type": "code",
   "execution_count": 19,
   "metadata": {},
   "outputs": [
    {
     "name": "stdout",
     "output_type": "stream",
     "text": [
      "CPU times: user 542 ms, sys: 84.3 ms, total: 626 ms\n",
      "Wall time: 626 ms\n"
     ]
    }
   ],
   "source": [
    "%time for _ in range(10): my_arr_2 = [x * 2 for x in my_list]"
   ]
  },
  {
   "cell_type": "code",
   "execution_count": 60,
   "metadata": {},
   "outputs": [],
   "source": [
    "arr_1 = np.arange(-5, 5)"
   ]
  },
  {
   "cell_type": "code",
   "execution_count": 61,
   "metadata": {},
   "outputs": [],
   "source": [
    "xs, ys = np.meshgrid(arr_1, arr_1)"
   ]
  },
  {
   "cell_type": "code",
   "execution_count": 62,
   "metadata": {},
   "outputs": [
    {
     "data": {
      "text/plain": [
       "[(array([-5, -4, -3, -2, -1,  0,  1,  2,  3,  4]),\n",
       "  array([-5, -5, -5, -5, -5, -5, -5, -5, -5, -5])),\n",
       " (array([-5, -4, -3, -2, -1,  0,  1,  2,  3,  4]),\n",
       "  array([-4, -4, -4, -4, -4, -4, -4, -4, -4, -4])),\n",
       " (array([-5, -4, -3, -2, -1,  0,  1,  2,  3,  4]),\n",
       "  array([-3, -3, -3, -3, -3, -3, -3, -3, -3, -3])),\n",
       " (array([-5, -4, -3, -2, -1,  0,  1,  2,  3,  4]),\n",
       "  array([-2, -2, -2, -2, -2, -2, -2, -2, -2, -2])),\n",
       " (array([-5, -4, -3, -2, -1,  0,  1,  2,  3,  4]),\n",
       "  array([-1, -1, -1, -1, -1, -1, -1, -1, -1, -1])),\n",
       " (array([-5, -4, -3, -2, -1,  0,  1,  2,  3,  4]),\n",
       "  array([0, 0, 0, 0, 0, 0, 0, 0, 0, 0])),\n",
       " (array([-5, -4, -3, -2, -1,  0,  1,  2,  3,  4]),\n",
       "  array([1, 1, 1, 1, 1, 1, 1, 1, 1, 1])),\n",
       " (array([-5, -4, -3, -2, -1,  0,  1,  2,  3,  4]),\n",
       "  array([2, 2, 2, 2, 2, 2, 2, 2, 2, 2])),\n",
       " (array([-5, -4, -3, -2, -1,  0,  1,  2,  3,  4]),\n",
       "  array([3, 3, 3, 3, 3, 3, 3, 3, 3, 3])),\n",
       " (array([-5, -4, -3, -2, -1,  0,  1,  2,  3,  4]),\n",
       "  array([4, 4, 4, 4, 4, 4, 4, 4, 4, 4]))]"
      ]
     },
     "execution_count": 62,
     "metadata": {},
     "output_type": "execute_result"
    }
   ],
   "source": [
    "list(zip(xs, ys))"
   ]
  },
  {
   "cell_type": "code",
   "execution_count": 51,
   "metadata": {},
   "outputs": [],
   "source": [
    "zs = np.sqrt(xs ** 2 + ys ** 2)"
   ]
  },
  {
   "cell_type": "code",
   "execution_count": 55,
   "metadata": {},
   "outputs": [
    {
     "data": {
      "text/plain": [
       "Text(0.5, 1.0, 'Image plot for $\\\\sqrt{x^2 + y^2}$ for a grid of values.')"
      ]
     },
     "execution_count": 55,
     "metadata": {},
     "output_type": "execute_result"
    },
    {
     "data": {
      "image/png": "[encoded data removed]",
      "text/plain": [
       "<Figure size 432x288 with 2 Axes>"
      ]
     },
     "metadata": {
      "needs_background": "light"
     },
     "output_type": "display_data"
    }
   ],
   "source": [
    "plt.imshow(zs, cmap=plt.cm.gray)\n",
    "plt.colorbar()\n",
    "plt.title(\"Image plot for $\\sqrt{x^2 + y^2}$ for a grid of values.\")"
   ]
  },
  {
   "cell_type": "code",
   "execution_count": 66,
   "metadata": {},
   "outputs": [
    {
     "data": {
      "text/plain": [
       "array([[ 0,  1,  2,  3,  4,  5,  6,  7,  8,  9],\n",
       "       [10, 11, 12, 13, 14, 15, 16, 17, 18, 19],\n",
       "       [20, 21, 22, 23, 24, 25, 26, 27, 28, 29],\n",
       "       [30, 31, 32, 33, 34, 35, 36, 37, 38, 39],\n",
       "       [40, 41, 42, 43, 44, 45, 46, 47, 48, 49],\n",
       "       [50, 51, 52, 53, 54, 55, 56, 57, 58, 59],\n",
       "       [60, 61, 62, 63, 64, 65, 66, 67, 68, 69],\n",
       "       [70, 71, 72, 73, 74, 75, 76, 77, 78, 79],\n",
       "       [80, 81, 82, 83, 84, 85, 86, 87, 88, 89],\n",
       "       [90, 91, 92, 93, 94, 95, 96, 97, 98, 99]])"
      ]
     },
     "execution_count": 66,
     "metadata": {},
     "output_type": "execute_result"
    }
   ],
   "source": [
    "arr_2 = np.arange(100).reshape(10, 10)\n",
    "arr_2"
   ]
  },
  {
   "cell_type": "code",
   "execution_count": 70,
   "metadata": {},
   "outputs": [
    {
     "data": {
      "text/plain": [
       "array([[  0,   1,   3,   6,  10,  15,  21,  28,  36,  45],\n",
       "       [ 10,  21,  33,  46,  60,  75,  91, 108, 126, 145],\n",
       "       [ 20,  41,  63,  86, 110, 135, 161, 188, 216, 245],\n",
       "       [ 30,  61,  93, 126, 160, 195, 231, 268, 306, 345],\n",
       "       [ 40,  81, 123, 166, 210, 255, 301, 348, 396, 445],\n",
       "       [ 50, 101, 153, 206, 260, 315, 371, 428, 486, 545],\n",
       "       [ 60, 121, 183, 246, 310, 375, 441, 508, 576, 645],\n",
       "       [ 70, 141, 213, 286, 360, 435, 511, 588, 666, 745],\n",
       "       [ 80, 161, 243, 326, 410, 495, 581, 668, 756, 845],\n",
       "       [ 90, 181, 273, 366, 460, 555, 651, 748, 846, 945]])"
      ]
     },
     "execution_count": 70,
     "metadata": {},
     "output_type": "execute_result"
    }
   ],
   "source": [
    "arr_2.cumsum(axis=1)"
   ]
  },
  {
   "cell_type": "code",
   "execution_count": 74,
   "metadata": {},
   "outputs": [
    {
     "data": {
      "text/plain": [
       "array([[1, 2, 3],\n",
       "       [4, 5, 6]])"
      ]
     },
     "execution_count": 74,
     "metadata": {},
     "output_type": "execute_result"
    }
   ],
   "source": [
    "x = np.arange(1, 7).reshape(2,3)\n",
    "x"
   ]
  },
  {
   "cell_type": "code",
   "execution_count": 76,
   "metadata": {},
   "outputs": [
    {
     "data": {
      "text/plain": [
       "array([ 6., 15.])"
      ]
     },
     "execution_count": 76,
     "metadata": {},
     "output_type": "execute_result"
    }
   ],
   "source": [
    "x.dot(np.ones(3))"
   ]
  },
  {
   "cell_type": "code",
   "execution_count": 86,
   "metadata": {},
   "outputs": [
    {
     "data": {
      "text/plain": [
       "array([[1, 2],\n",
       "       [1, 2],\n",
       "       [1, 2]])"
      ]
     },
     "execution_count": 86,
     "metadata": {},
     "output_type": "execute_result"
    }
   ],
   "source": [
    "y = np.array([ [1, 1, 1], [2 ,2, 2] ])\n",
    "y.T"
   ]
  },
  {
   "cell_type": "code",
   "execution_count": 85,
   "metadata": {},
   "outputs": [
    {
     "data": {
      "text/plain": [
       "array([[ 6, 12],\n",
       "       [15, 30]])"
      ]
     },
     "execution_count": 85,
     "metadata": {},
     "output_type": "execute_result"
    }
   ],
   "source": [
    "x @ y.T"
   ]
  },
  {
   "cell_type": "code",
   "execution_count": null,
   "metadata": {},
   "outputs": [],
   "source": []
  }
 ],
 "metadata": {
  "kernelspec": {
   "display_name": "study",
   "language": "python",
   "name": "study"
  },
  "language_info": {
   "codemirror_mode": {
    "name": "ipython",
    "version": 3
   },
   "file_extension": ".py",
   "mimetype": "text/x-python",
   "name": "python",
   "nbconvert_exporter": "python",
   "pygments_lexer": "ipython3",
   "version": "3.8.5"
  }
 },
 "nbformat": 4,
 "nbformat_minor": 4
}
